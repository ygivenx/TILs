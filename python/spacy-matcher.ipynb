{
 "cells": [
  {
   "cell_type": "markdown",
   "metadata": {},
   "source": [
    "## Spacy Matcher\n",
    "\n",
    "Lets say you want to write a rule based (regex like) program and also want leverage linguistic features such as POS, dependencies parsing etc.\n",
    "\n",
    "`Spacy`'s `matcher` provides a powerful and simple way to achieve this goal."
   ]
  },
  {
   "cell_type": "code",
   "execution_count": 29,
   "metadata": {},
   "outputs": [],
   "source": [
    "# import libraries\n",
    "import spacy\n",
    "from spacy.matcher import Matcher\n",
    "from datetime import datetime\n",
    "\n",
    "# load model\n",
    "nlp = spacy.load(\"en_core_web_sm\")"
   ]
  },
  {
   "cell_type": "markdown",
   "metadata": {},
   "source": [
    "### Spacy Matcher Basics (token level)\n",
    "\n",
    "[Full Documentation](https://spacy.io/usage/rule-based-matching#matcher)"
   ]
  },
  {
   "cell_type": "code",
   "execution_count": 36,
   "metadata": {},
   "outputs": [
    {
     "name": "stdout",
     "output_type": "stream",
     "text": [
      "Proceesing document:  The quick brown fox jumps over the lazy dog.\n",
      "span                \tstart\tend\tMatched Pattern\n",
      "--------------------\t-----\t-----\t--------------------\n",
      "quick brown         \t4\t15\tquick{regex}\n",
      "fox                 \t16\t19\tfox\n",
      "jumps               \t20\t25\tjump\n",
      "lazy dog            \t35\t43\tlazyanimals\n",
      "\n",
      "\n",
      "Time taken: 0:00:00.009573\n",
      "\n",
      "Proceesing document:  The quick black fox jumps over the lazy monkey\n",
      "span                \tstart\tend\tMatched Pattern\n",
      "--------------------\t-----\t-----\t--------------------\n",
      "quick black         \t4\t15\tquick{regex}\n",
      "fox                 \t16\t19\tfox\n",
      "jumps               \t20\t25\tjump\n",
      "lazy monkey         \t35\t46\tlazyanimals\n",
      "\n",
      "\n",
      "Time taken: 0:00:00.007365\n",
      "\n"
     ]
    }
   ],
   "source": [
    "sample_document1 = \"The quick brown fox jumps over the lazy dog.\"\n",
    "sample_document2 = \"The quick black fox jumps over the lazy monkey\"\n",
    "\n",
    "# find regex patterns using matcher\n",
    "matcher = Matcher(nlp.vocab)\n",
    "\n",
    "# find tokens matching fox\n",
    "pattern1 = [[{\"LOWER\": \"fox\"}]] \n",
    "\n",
    "# find tokens matching the root word \"jump\"\n",
    "pattern2 = [[{\"LEMMA\": \"jump\"}]]\n",
    "\n",
    "# find tokens matching a noun folloewed by lazy\n",
    "pattern3 = [[{\"LOWER\": \"lazy\"}, {\"POS\": \"NOUN\"}]\n",
    "]\n",
    "\n",
    "# find regex patterns\n",
    "pattern4 = [[{\"LOWER\": \"quick\"}, {\"TEXT\": {\"REGEX\": \"b(rown|lack)\"}}]]\n",
    "\n",
    "matcher.add(\"fox\", pattern1)\n",
    "matcher.add(\"jump\", pattern2)\n",
    "matcher.add(\"lazyanimals\", pattern3)\n",
    "matcher.add(\"quick{regex}\", pattern4)\n",
    "\n",
    "for document in [sample_document1, sample_document2]:\n",
    "    print(\"Proceesing document: \", document)\n",
    "    tik = datetime.now()\n",
    "    doc = nlp(document)\n",
    "    matches = matcher(doc)\n",
    "\n",
    "    print(f\"{'span':20}\\tstart\\tend\\tMatched Pattern\")\n",
    "    print(f\"{'-'*20:20}\\t{'-'*5}\\t{'-'*5}\\t{'-'*20}\")\n",
    "    for match in matches:\n",
    "        id, start, end = match\n",
    "        span = doc[start:end]\n",
    "        print(f\"{span.text:20}\\t{span.start_char}\\t{span.end_char}\\t{nlp.vocab.strings[id]}\")\n",
    "    print(\"\\n\")\n",
    "    tok = datetime.now()\n",
    "    print(f\"Time taken: {(tok-tik)}\\n\")\n",
    "\n"
   ]
  },
  {
   "cell_type": "markdown",
   "metadata": {},
   "source": [
    "## Spacy Phrase Matcher\n",
    "\n",
    "Match a large a list of terms - fast\n",
    "\n",
    "[Full Documentation](https://spacy.io/usage/rule-based-matching#phrasematcher)"
   ]
  },
  {
   "cell_type": "code",
   "execution_count": 41,
   "metadata": {},
   "outputs": [
    {
     "name": "stdout",
     "output_type": "stream",
     "text": [
      "Proceesing document: \n",
      "span                \tstart\tend\tMatched Pattern\n",
      "--------------------\t-----\t-----\t--------------------\n",
      "fox                 \t16\t19\teatlazyanimals\n",
      "lazy dog            \t35\t43\teatlazyanimals\n",
      "\n",
      "\n",
      "Time taken: 0:00:00.009274\n",
      "\n",
      "Proceesing document: \n",
      "span                \tstart\tend\tMatched Pattern\n",
      "--------------------\t-----\t-----\t--------------------\n",
      "fox                 \t16\t19\teatlazyanimals\n",
      "lazy monkey         \t35\t46\teatlazyanimals\n",
      "\n",
      "\n",
      "Time taken: 0:00:00.007144\n",
      "\n"
     ]
    }
   ],
   "source": [
    "from spacy.matcher import PhraseMatcher\n",
    "\n",
    "phrase_matcher = PhraseMatcher(nlp.vocab)\n",
    "terms = [\"fox\", \"lazy dog\", \"lazy monkey\"]\n",
    "\n",
    "patterns = [nlp.make_doc(text) for text in terms]\n",
    "\n",
    "phrase_matcher.add(\"eatlazyanimals\", patterns)\n",
    "\n",
    "for document in [sample_document1, sample_document2]:\n",
    "    print(\"Proceesing document: \")\n",
    "    tik = datetime.now()\n",
    "    doc = nlp(document)\n",
    "    matches = phrase_matcher(doc)\n",
    "\n",
    "    print(f\"{'span':20}\\tstart\\tend\\tMatched Pattern\")\n",
    "    print(f\"{'-'*20:20}\\t{'-'*5}\\t{'-'*5}\\t{'-'*20}\")\n",
    "    for match in matches:\n",
    "        id, start, end = match\n",
    "        span = doc[start:end]\n",
    "        print(f\"{span.text:20}\\t{span.start_char}\\t{span.end_char}\\t{nlp.vocab.strings[id]}\")\n",
    "    print(\"\\n\")\n",
    "    tok = datetime.now()\n",
    "    print(f\"Time taken: {(tok-tik)}\\n\")\n"
   ]
  }
 ],
 "metadata": {
  "kernelspec": {
   "display_name": "Python 3",
   "language": "python",
   "name": "python3"
  },
  "language_info": {
   "codemirror_mode": {
    "name": "ipython",
    "version": 3
   },
   "file_extension": ".py",
   "mimetype": "text/x-python",
   "name": "python",
   "nbconvert_exporter": "python",
   "pygments_lexer": "ipython3",
   "version": "3.9.0"
  },
  "orig_nbformat": 4
 },
 "nbformat": 4,
 "nbformat_minor": 2
}
